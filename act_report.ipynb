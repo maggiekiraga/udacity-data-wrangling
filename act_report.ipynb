{
 "cells": [
  {
   "cell_type": "markdown",
   "metadata": {},
   "source": [
    "# WeRateDogs : \n",
    "## How to get even higher ratings for the pics of your favorite buddy? \n",
    "\n",
    "\n",
    "Using the twitter archive and available on request API data of WeRateDogs allows you to do all the interesting calculations, visualizations, and modifications, resulting in a hundred possible ways to analyze the obtained information. \n",
    "\n",
    "One of my favorites parts of information was classification of the dog stage from the tweet message. It was first time when I came across those namings and reading the explanation of each of them in The Dogtionary was just hilarious. I instantly loved it and decided to give it closer in the **Data Analysis Section**.  \n",
    "\n",
    "First things first, the majority of the tweets (86%) didn't include the name of dog stage. In the case, that tweet was mentioning the dog stage *pupper* was most popular (64%), followed by *doggo* (24%), next was *puppo* on the third place (9%), and *floofer* was the least used (3%). \n",
    "\n",
    "![Dog stage distribution](dog_stage_dist.png)\n",
    "\n",
    "So, although the dog stage was a rather rare addition to the tweet, interestingly it was associated with higher ratings. More specifically, on an average picture got a rating of 10.8 out of 10. Looking closer to ratings of tweets without mentioning the dog stage I found that those were rated 10.8 on average, not surprising given the overwhelming number of those tweets (1319). However, tweets including the dog stage (212) got on average a rating of 11.5 on 10, with *doggo* and *puppo* being given the highest ratings (12/10). \n",
    "\n",
    "![Ratings per dog stage](ratings.png)\n",
    "\n",
    "As a conclusion of these preliminary analyses, I tend to say that there seems to be a relationship between the inclusion of the dog stage in the tweet message and the given rating. This relationship would make sense, as the names and meanings of the dog stages are hilarious by themselves, and tweets including them probably stand out more. So, **the take-home message is**: despite the fact how great the pic of your pet is, a funny and original tweet can boost the rating, and including a stage of your dog seems to help with that! "
   ]
  }
 ],
 "metadata": {
  "kernelspec": {
   "display_name": "Python 3",
   "language": "python",
   "name": "python3"
  },
  "language_info": {
   "codemirror_mode": {
    "name": "ipython",
    "version": 3
   },
   "file_extension": ".py",
   "mimetype": "text/x-python",
   "name": "python",
   "nbconvert_exporter": "python",
   "pygments_lexer": "ipython3",
   "version": "3.8.2"
  }
 },
 "nbformat": 4,
 "nbformat_minor": 4
}
