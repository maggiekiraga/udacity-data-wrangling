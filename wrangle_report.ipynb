{
 "cells": [
  {
   "cell_type": "markdown",
   "metadata": {},
   "source": [
    "# Udacity Data Wrangling Report"
   ]
  },
  {
   "cell_type": "markdown",
   "metadata": {},
   "source": [
    "### The Aim of the Project:\n",
    "The aim of this project was to gather, localized in different sources, twitts data of the famous fan page WeRateDogs. The collected data should be then saved into data frames and assess thoroughly. The goal of the assessment was to identify minimum 8 quality and 2 tidiness issues, hindering the efficiency of data analyzing. After targeting the issues, the cleaning of the created data frames could begin. To, finally finish the project with a few insights and visualizations based on the obtained data. \n",
    "\n",
    "### Wrangling Process:\n",
    "1. `Gathering Part` \n",
    " * collecting the data from three different sources, namely: local source, URL and twitter API\n",
    " * using request library to download image-prediction data and writing it to tsv file\n",
    " * registering on the developer.twitter.com and applying for access to WeRateDogs API data, collecting the data using tweepy library, saving the data into txt file\n",
    " * writing all three sources of the gathered data's into data frames \n",
    " \n",
    " \n",
    "2. `Assessment Part` \n",
    " * performing visual and programatic assessment of the created data frames\n",
    " * using basic assessment's methods like: `.head()`, `.info()`, `.describe()`, `.duplicated()`, `.isnull`, etc.\n",
    " * using more advanced assessment's techniques like: list comprehension \n",
    " * describing 10 quality issues and 2 tidiness issues found among the three data frames\n",
    " \n",
    " \n",
    "3. `Cleaning Part` \n",
    " * creating a 'master' copies of each data sets on which cleaning will be performed\n",
    " * describing a cleaning solution for each of the issues listed in the assessment part\n",
    " * using basic built-in methods to perform some of the cleaning parts, e.g.: `.drop()`, `.dropna()`, `.to_datetime()`, `.astype()`, `.isin()`, etc.\n",
    " * applying more complexer approaches to satisfy some of the cleaning goals, e.g.: combining the `groupby()` method with `.transform()` method to drop all of the rows in the data frame with numerator frequencies of 2 and lower\n",
    " * testing each cleaning action in the seperated `Test` section, using following methods: `.head()`, `.info()`, `.sample()`, `.value_counts`, `.dtypes`, etc.\n",
    " \n",
    " \n",
    "4. `Analyses and Visualizations`\n",
    " * plotting histogram depicting counts of the dog stages\n",
    " * using seaborn to depict the relationship betweet the `rating_numerator` and `dog_stage` \n",
    " * using basic statistical methods like: `.describe()`, `.mean()`, `.std()`, `.groupby()` to gain some insights on the investigated variables: `rating_numerator` and `dog_stage` \n",
    " "
   ]
  }
 ],
 "metadata": {
  "kernelspec": {
   "display_name": "Python 3",
   "language": "python",
   "name": "python3"
  },
  "language_info": {
   "codemirror_mode": {
    "name": "ipython",
    "version": 3
   },
   "file_extension": ".py",
   "mimetype": "text/x-python",
   "name": "python",
   "nbconvert_exporter": "python",
   "pygments_lexer": "ipython3",
   "version": "3.8.2"
  }
 },
 "nbformat": 4,
 "nbformat_minor": 4
}
